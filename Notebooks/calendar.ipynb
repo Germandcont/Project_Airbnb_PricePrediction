{
 "cells": [
  {
   "cell_type": "code",
   "execution_count": 1,
   "metadata": {},
   "outputs": [],
   "source": [
    "import pandas as pd\n",
    "import numpy as np\n",
    "import matplotlib.pyplot as plt\n",
    "import seaborn as sns"
   ]
  },
  {
   "cell_type": "code",
   "execution_count": 2,
   "metadata": {},
   "outputs": [],
   "source": [
    "calendar = pd.read_csv(r'C:\\Users\\Germán\\Github\\Project_Airbnb\\Data\\calendar.csv')"
   ]
  },
  {
   "cell_type": "code",
   "execution_count": 3,
   "metadata": {},
   "outputs": [
    {
     "name": "stdout",
     "output_type": "stream",
     "text": [
      "<class 'pandas.core.frame.DataFrame'>\n",
      "RangeIndex: 3554304 entries, 0 to 3554303\n",
      "Data columns (total 7 columns):\n",
      " #   Column          Dtype  \n",
      "---  ------          -----  \n",
      " 0   listing_id      int64  \n",
      " 1   date            object \n",
      " 2   available       object \n",
      " 3   price           object \n",
      " 4   adjusted_price  float64\n",
      " 5   minimum_nights  int64  \n",
      " 6   maximum_nights  int64  \n",
      "dtypes: float64(1), int64(3), object(3)\n",
      "memory usage: 189.8+ MB\n"
     ]
    }
   ],
   "source": [
    "calendar.info()"
   ]
  },
  {
   "cell_type": "code",
   "execution_count": 4,
   "metadata": {},
   "outputs": [
    {
     "data": {
      "text/html": [
       "<div>\n",
       "<style scoped>\n",
       "    .dataframe tbody tr th:only-of-type {\n",
       "        vertical-align: middle;\n",
       "    }\n",
       "\n",
       "    .dataframe tbody tr th {\n",
       "        vertical-align: top;\n",
       "    }\n",
       "\n",
       "    .dataframe thead th {\n",
       "        text-align: right;\n",
       "    }\n",
       "</style>\n",
       "<table border=\"1\" class=\"dataframe\">\n",
       "  <thead>\n",
       "    <tr style=\"text-align: right;\">\n",
       "      <th></th>\n",
       "      <th>listing_id</th>\n",
       "      <th>date</th>\n",
       "      <th>available</th>\n",
       "      <th>price</th>\n",
       "      <th>adjusted_price</th>\n",
       "      <th>minimum_nights</th>\n",
       "      <th>maximum_nights</th>\n",
       "    </tr>\n",
       "  </thead>\n",
       "  <tbody>\n",
       "    <tr>\n",
       "      <th>0</th>\n",
       "      <td>56766</td>\n",
       "      <td>2024-09-13</td>\n",
       "      <td>f</td>\n",
       "      <td>$130.00</td>\n",
       "      <td>NaN</td>\n",
       "      <td>30</td>\n",
       "      <td>1125</td>\n",
       "    </tr>\n",
       "    <tr>\n",
       "      <th>1</th>\n",
       "      <td>56766</td>\n",
       "      <td>2024-09-14</td>\n",
       "      <td>f</td>\n",
       "      <td>$130.00</td>\n",
       "      <td>NaN</td>\n",
       "      <td>30</td>\n",
       "      <td>1125</td>\n",
       "    </tr>\n",
       "    <tr>\n",
       "      <th>2</th>\n",
       "      <td>56766</td>\n",
       "      <td>2024-09-15</td>\n",
       "      <td>f</td>\n",
       "      <td>$130.00</td>\n",
       "      <td>NaN</td>\n",
       "      <td>30</td>\n",
       "      <td>1125</td>\n",
       "    </tr>\n",
       "    <tr>\n",
       "      <th>3</th>\n",
       "      <td>56766</td>\n",
       "      <td>2024-09-16</td>\n",
       "      <td>f</td>\n",
       "      <td>$130.00</td>\n",
       "      <td>NaN</td>\n",
       "      <td>30</td>\n",
       "      <td>1125</td>\n",
       "    </tr>\n",
       "    <tr>\n",
       "      <th>4</th>\n",
       "      <td>56766</td>\n",
       "      <td>2024-09-17</td>\n",
       "      <td>f</td>\n",
       "      <td>$130.00</td>\n",
       "      <td>NaN</td>\n",
       "      <td>30</td>\n",
       "      <td>1125</td>\n",
       "    </tr>\n",
       "  </tbody>\n",
       "</table>\n",
       "</div>"
      ],
      "text/plain": [
       "   listing_id        date available    price  adjusted_price  minimum_nights  \\\n",
       "0       56766  2024-09-13         f  $130.00             NaN              30   \n",
       "1       56766  2024-09-14         f  $130.00             NaN              30   \n",
       "2       56766  2024-09-15         f  $130.00             NaN              30   \n",
       "3       56766  2024-09-16         f  $130.00             NaN              30   \n",
       "4       56766  2024-09-17         f  $130.00             NaN              30   \n",
       "\n",
       "   maximum_nights  \n",
       "0            1125  \n",
       "1            1125  \n",
       "2            1125  \n",
       "3            1125  \n",
       "4            1125  "
      ]
     },
     "execution_count": 4,
     "metadata": {},
     "output_type": "execute_result"
    }
   ],
   "source": [
    "calendar.head()"
   ]
  },
  {
   "cell_type": "code",
   "execution_count": 6,
   "metadata": {},
   "outputs": [
    {
     "data": {
      "text/plain": [
       "9738"
      ]
     },
     "execution_count": 6,
     "metadata": {},
     "output_type": "execute_result"
    }
   ],
   "source": [
    "#Contar cuantos listings id diferentes hay en el dataset\n",
    "calendar['listing_id'].nunique()"
   ]
  },
  {
   "cell_type": "code",
   "execution_count": 7,
   "metadata": {},
   "outputs": [
    {
     "data": {
      "text/plain": [
       "listing_id              0\n",
       "date                    0\n",
       "available               0\n",
       "price                   0\n",
       "adjusted_price    3554304\n",
       "minimum_nights          0\n",
       "maximum_nights          0\n",
       "dtype: int64"
      ]
     },
     "execution_count": 7,
     "metadata": {},
     "output_type": "execute_result"
    }
   ],
   "source": [
    "#Nulos \n",
    "calendar.isnull().sum()"
   ]
  },
  {
   "cell_type": "code",
   "execution_count": 8,
   "metadata": {},
   "outputs": [
    {
     "name": "stdout",
     "output_type": "stream",
     "text": [
      "         listing_id        date available      price  adjusted_price  \\\n",
      "1226400    28169596  2024-09-13         f  $1,000.00             NaN   \n",
      "1226401    28169596  2024-09-14         f  $1,000.00             NaN   \n",
      "1226402    28169596  2024-09-15         f  $1,000.00             NaN   \n",
      "1226403    28169596  2024-09-16         f  $1,000.00             NaN   \n",
      "1226404    28169596  2024-09-17         f  $1,000.00             NaN   \n",
      "...             ...         ...       ...        ...             ...   \n",
      "1226760    28169596  2025-09-08         f  $1,000.00             NaN   \n",
      "1226761    28169596  2025-09-09         f  $1,000.00             NaN   \n",
      "1226762    28169596  2025-09-10         f  $1,000.00             NaN   \n",
      "1226763    28169596  2025-09-11         f  $1,000.00             NaN   \n",
      "1226764    28169596  2025-09-12         f  $1,000.00             NaN   \n",
      "\n",
      "         minimum_nights  maximum_nights  \n",
      "1226400               1            1125  \n",
      "1226401               1            1125  \n",
      "1226402               1            1125  \n",
      "1226403               1            1125  \n",
      "1226404               1            1125  \n",
      "...                 ...             ...  \n",
      "1226760               1            1125  \n",
      "1226761               1            1125  \n",
      "1226762               1            1125  \n",
      "1226763               1            1125  \n",
      "1226764               1            1125  \n",
      "\n",
      "[365 rows x 7 columns]\n"
     ]
    }
   ],
   "source": [
    "print(calendar[calendar['listing_id'] == 28169596])"
   ]
  },
  {
   "cell_type": "code",
   "execution_count": 12,
   "metadata": {},
   "outputs": [
    {
     "name": "stdout",
     "output_type": "stream",
     "text": [
      "month\n",
      "9     113.214931\n",
      "10    113.214931\n",
      "11    113.214931\n",
      "12    113.214931\n",
      "Name: price, dtype: float64\n"
     ]
    }
   ],
   "source": [
    "# Filtrar los datos para el año 2024\n",
    "calendar_2024 = calendar[calendar['year'] == 2024]\n",
    "\n",
    "# Calcular el promedio de los precios por mes\n",
    "average_price_per_month_2024 = calendar_2024.groupby('month')['price'].mean()\n",
    "\n",
    "# Mostrar la tabla\n",
    "print(average_price_per_month_2024)"
   ]
  },
  {
   "cell_type": "code",
   "execution_count": 9,
   "metadata": {},
   "outputs": [
    {
     "data": {
      "image/png": "[encoded data removed]",
      "text/plain": [
       "<Figure size 640x480 with 1 Axes>"
      ]
     },
     "metadata": {},
     "output_type": "display_data"
    }
   ],
   "source": [
    "#Precio promedio por mes del año\n",
    "calendar['date'] = pd.to_datetime(calendar['date'])\n",
    "calendar['month'] = calendar['date'].dt.month\n",
    "calendar['year'] = calendar['date'].dt.year\n",
    "calendar['day'] = calendar['date'].dt.day\n",
    "calendar['weekday'] = calendar['date'].dt.weekday\n",
    "\n",
    "calendar['price'] = calendar['price'].str.replace('$', '')\n",
    "calendar['price'] = calendar['price'].str.replace(',', '')\n",
    "calendar['price'] = calendar['price'].astype(float)\n",
    "\n",
    "\n",
    "calendar.groupby('month')['price'].mean().plot(kind='bar')\n",
    "plt.title('Precio promedio por mes')\n",
    "plt.xlabel('Mes')\n",
    "plt.ylabel('Precio promedio')\n",
    "plt.show()"
   ]
  },
  {
   "cell_type": "code",
   "execution_count": null,
   "metadata": {},
   "outputs": [],
   "source": []
  }
 ],
 "metadata": {
  "kernelspec": {
   "display_name": "Python 3",
   "language": "python",
   "name": "python3"
  },
  "language_info": {
   "codemirror_mode": {
    "name": "ipython",
    "version": 3
   },
   "file_extension": ".py",
   "mimetype": "text/x-python",
   "name": "python",
   "nbconvert_exporter": "python",
   "pygments_lexer": "ipython3",
   "version": "3.12.7"
  }
 },
 "nbformat": 4,
 "nbformat_minor": 2
}
